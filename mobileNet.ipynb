{
 "cells": [
  {
   "cell_type": "code",
   "execution_count": null,
   "metadata": {
    "id": "w_VB-YfgCq9t"
   },
   "outputs": [],
   "source": [
    "!unzip drive/MyDrive/data.zip -d /content/"
   ]
  },
  {
   "cell_type": "code",
   "execution_count": null,
   "metadata": {
    "id": "026X-73pEIOG"
   },
   "outputs": [],
   "source": [
    "!mkdir Train\n",
    "!mkdir Test"
   ]
  },
  {
   "cell_type": "code",
   "execution_count": null,
   "metadata": {
    "id": "6EPtafpeKzrC"
   },
   "outputs": [],
   "source": [
    "import os\n",
    "import shutil\n",
    "import random"
   ]
  },
  {
   "cell_type": "code",
   "execution_count": null,
   "metadata": {
    "id": "FgDkXJtuK5lr"
   },
   "outputs": [],
   "source": [
    "def split_data(source, train_dir, test_dir, split_ratio):\n",
    "    for class_folder in os.listdir(source):\n",
    "        class_path = os.path.join(source, class_folder)\n",
    "        if os.path.isdir(class_path):\n",
    "            files = os.listdir(class_path)\n",
    "            random.shuffle(files)  # Shuffle the files to ensure randomness in the split\n",
    "            split_index = int(len(files) * split_ratio)\n",
    "            train_files = files[:split_index]\n",
    "            test_files = files[split_index:]\n",
    "\n",
    "            # Create class folders in train and test directories if they don't exist\n",
    "            train_class_dir = os.path.join(train_dir, class_folder)\n",
    "            test_class_dir = os.path.join(test_dir, class_folder)\n",
    "            os.makedirs(train_class_dir, exist_ok=True)\n",
    "            os.makedirs(test_class_dir, exist_ok=True)\n",
    "\n",
    "            # Move files to train directory\n",
    "            for file in train_files:\n",
    "                src = os.path.join(class_path, file)\n",
    "                dst = os.path.join(train_class_dir, file)\n",
    "                shutil.copy(src, dst)\n",
    "\n",
    "            # Move files to test directory\n",
    "            for file in test_files:\n",
    "                src = os.path.join(class_path, file)\n",
    "                dst = os.path.join(test_class_dir, file)\n",
    "                shutil.copy(src, dst)"
   ]
  },
  {
   "cell_type": "code",
   "execution_count": null,
   "metadata": {
    "id": "rHyga7_rKyIi"
   },
   "outputs": [],
   "source": [
    "source_directory = \"data\"\n",
    "train_directory = \"Train\"\n",
    "test_directory = \"Test\"\n",
    "split_ratio = 0.8  # 80% training data, 20% testing data\n",
    "\n",
    "split_data(source_directory, train_directory, test_directory, split_ratio)\n"
   ]
  },
  {
   "cell_type": "code",
   "execution_count": null,
   "metadata": {
    "id": "6_ko7tNgbDFX"
   },
   "outputs": [],
   "source": [
    "import tensorflow as tf\n",
    "from tensorflow.keras.applications import MobileNet\n",
    "from tensorflow.keras.layers import Dense, GlobalAveragePooling2D\n",
    "from tensorflow.keras.models import Model\n",
    "from tensorflow.keras.optimizers import Adam\n",
    "from tensorflow.keras.preprocessing.image import ImageDataGenerator"
   ]
  },
  {
   "cell_type": "code",
   "execution_count": null,
   "metadata": {
    "id": "jL9T7oW0bK8_"
   },
   "outputs": [],
   "source": [
    "# Set the image size and batch size\n",
    "IMAGE_SIZE = (128, 128)\n",
    "BATCH_SIZE = 32\n",
    "\n",
    "# Define the number of classes\n",
    "NUM_CLASSES = 35  # For example, if you have 10 hand sign classes\n",
    "\n",
    "# Load the pre-trained MobileNet model\n",
    "base_model = MobileNet(weights='imagenet', include_top=False, input_shape=(*IMAGE_SIZE, 3))\n",
    "\n",
    "# Add custom top layers for our task\n",
    "x = base_model.output\n",
    "x = GlobalAveragePooling2D()(x)\n",
    "x = Dense(1024, activation='relu')(x)\n",
    "predictions = Dense(NUM_CLASSES, activation='softmax')(x)\n",
    "\n",
    "# Create the full model\n",
    "model = Model(inputs=base_model.input, outputs=predictions)\n",
    "\n",
    "# Freeze the base MobileNet layers\n",
    "for layer in base_model.layers:\n",
    "    layer.trainable = False\n",
    "\n",
    "# Compile the model\n",
    "model.compile(optimizer=Adam(lr=0.001), loss='categorical_crossentropy', metrics=['accuracy'])\n",
    "\n",
    "# Data augmentation and preprocessing\n",
    "train_datagen = ImageDataGenerator(\n",
    "    rescale=1./255,\n",
    "    shear_range=0.2,\n",
    "    zoom_range=0.2,\n",
    "    horizontal_flip=True)\n",
    "\n",
    "test_datagen = ImageDataGenerator(rescale=1./255)"
   ]
  },
  {
   "cell_type": "code",
   "execution_count": null,
   "metadata": {
    "id": "VFWAfAY1baEB"
   },
   "outputs": [],
   "source": [
    "train_generator = train_datagen.flow_from_directory(\n",
    "    'Train',\n",
    "    target_size=IMAGE_SIZE,\n",
    "    batch_size=BATCH_SIZE,\n",
    "    class_mode='categorical')\n",
    "\n",
    "validation_generator = test_datagen.flow_from_directory(\n",
    "    'Test',\n",
    "    target_size=IMAGE_SIZE,\n",
    "    batch_size=BATCH_SIZE,\n",
    "    class_mode='categorical')"
   ]
  },
  {
   "cell_type": "code",
   "execution_count": null,
   "metadata": {
    "id": "LWD7rKhnb0BZ"
   },
   "outputs": [],
   "source": [
    "\n",
    "# Train the model\n",
    "model.fit(\n",
    "    train_generator,\n",
    "    steps_per_epoch=train_generator.samples // BATCH_SIZE,\n",
    "    epochs=100,  # adjust number of epochs as needed\n",
    "    validation_data=validation_generator,\n",
    "    validation_steps=validation_generator.samples // BATCH_SIZE)"
   ]
  },
  {
   "cell_type": "code",
   "execution_count": null,
   "metadata": {
    "id": "5bH_pzCia_al"
   },
   "outputs": [],
   "source": [
    "# Save the trained model\n",
    "model.save('hand_sign_model.h5')\n"
   ]
  },
  {
   "cell_type": "code",
   "execution_count": null,
   "metadata": {
    "id": "jDHHaIQ4ca_L"
   },
   "outputs": [],
   "source": [
    "# Load the saved Keras model\n",
    "model = tf.keras.models.load_model('hand_sign_model.h5')\n",
    "\n",
    "# Convert the model to TFLite format\n",
    "converter = tf.lite.TFLiteConverter.from_keras_model(model)\n",
    "tflite_model = converter.convert()\n",
    "\n",
    "# Save the TFLite model to a file\n",
    "with open('hand_sign_model.tflite', 'wb') as f:\n",
    "    f.write(tflite_model)\n"
   ]
  }
 ],
 "metadata": {
  "accelerator": "GPU",
  "colab": {
   "gpuType": "T4",
   "provenance": []
  },
  "kernelspec": {
   "display_name": "Python 3 (ipykernel)",
   "language": "python",
   "name": "python3"
  },
  "language_info": {
   "codemirror_mode": {
    "name": "ipython",
    "version": 3
   },
   "file_extension": ".py",
   "mimetype": "text/x-python",
   "name": "python",
   "nbconvert_exporter": "python",
   "pygments_lexer": "ipython3",
   "version": "3.10.9"
  }
 },
 "nbformat": 4,
 "nbformat_minor": 1
}
